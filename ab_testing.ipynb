{
 "cells": [
  {
   "cell_type": "code",
   "execution_count": 1,
   "id": "e13e8f3e-6b7b-41d4-a353-358ee521d5de",
   "metadata": {},
   "outputs": [],
   "source": [
    "# Introduction\n",
    "\n",
    "# In this project, we’ll explore whether there is a significant difference in conversion between two groups (A and B) using A/B testing.\n",
    "# The data comes from a simulated website experiment where users were randomly shown one of two landing pages.\n",
    "# Using Python and statistical testing, we’ll compare conversion rates between both groups to determine if one version performs significantly better than the other.\n"
   ]
  },
  {
   "cell_type": "code",
   "execution_count": 2,
   "id": "562c6c3a-8958-4d4d-87ad-9ab82952ed44",
   "metadata": {},
   "outputs": [],
   "source": [
    "# Import the libraries.\n",
    "\n",
    "import pandas as pd\n",
    "import zipfile\n",
    "import kaggle\n",
    "import numpy as np\n",
    "import matplotlib.pyplot as plt\n",
    "import seaborn as sns\n",
    "from statsmodels.stats.proportion import proportions_ztest"
   ]
  },
  {
   "cell_type": "code",
   "execution_count": 3,
   "id": "05dc0479-2cb9-461d-ae8d-f26c527252b5",
   "metadata": {},
   "outputs": [
    {
     "name": "stdout",
     "output_type": "stream",
     "text": [
      "Dataset URL: https://www.kaggle.com/datasets/zhangluyuan/ab-testing\n",
      "License(s): unknown\n",
      "ab-testing.zip: Skipping, found more recently modified local copy (use --force to force download)\n"
     ]
    }
   ],
   "source": [
    "# Download the dataset \"Wine Reviews\" from Kaggle, it will download a zip file.\n",
    "\n",
    "!kaggle datasets download -d zhangluyuan/ab-testing"
   ]
  },
  {
   "cell_type": "code",
   "execution_count": 4,
   "id": "6686dbac-fbb7-4ad5-81b0-95640aad90a4",
   "metadata": {},
   "outputs": [],
   "source": [
    "# Extract the content from the zip file.\n",
    "\n",
    "zipfile_name = 'ab-testing.zip'\n",
    "with zipfile.ZipFile(zipfile_name, 'r') as file:\n",
    "    file.extractall()"
   ]
  },
  {
   "cell_type": "code",
   "execution_count": 5,
   "id": "b042f2f6-6392-4c5a-aee9-d6c363263eab",
   "metadata": {},
   "outputs": [],
   "source": [
    "# Read in the csv as a pandas dataframe.\n",
    "\n",
    "df = pd.read_csv('ab_data.csv')"
   ]
  },
  {
   "cell_type": "code",
   "execution_count": 6,
   "id": "2c556435-7d96-4ab0-a669-3b5a47c38e09",
   "metadata": {},
   "outputs": [
    {
     "data": {
      "text/html": [
       "<div>\n",
       "<style scoped>\n",
       "    .dataframe tbody tr th:only-of-type {\n",
       "        vertical-align: middle;\n",
       "    }\n",
       "\n",
       "    .dataframe tbody tr th {\n",
       "        vertical-align: top;\n",
       "    }\n",
       "\n",
       "    .dataframe thead th {\n",
       "        text-align: right;\n",
       "    }\n",
       "</style>\n",
       "<table border=\"1\" class=\"dataframe\">\n",
       "  <thead>\n",
       "    <tr style=\"text-align: right;\">\n",
       "      <th></th>\n",
       "      <th>user_id</th>\n",
       "      <th>timestamp</th>\n",
       "      <th>group</th>\n",
       "      <th>landing_page</th>\n",
       "      <th>converted</th>\n",
       "    </tr>\n",
       "  </thead>\n",
       "  <tbody>\n",
       "    <tr>\n",
       "      <th>0</th>\n",
       "      <td>851104</td>\n",
       "      <td>2017-01-21 22:11:48.556739</td>\n",
       "      <td>control</td>\n",
       "      <td>old_page</td>\n",
       "      <td>0</td>\n",
       "    </tr>\n",
       "    <tr>\n",
       "      <th>1</th>\n",
       "      <td>804228</td>\n",
       "      <td>2017-01-12 08:01:45.159739</td>\n",
       "      <td>control</td>\n",
       "      <td>old_page</td>\n",
       "      <td>0</td>\n",
       "    </tr>\n",
       "    <tr>\n",
       "      <th>2</th>\n",
       "      <td>661590</td>\n",
       "      <td>2017-01-11 16:55:06.154213</td>\n",
       "      <td>treatment</td>\n",
       "      <td>new_page</td>\n",
       "      <td>0</td>\n",
       "    </tr>\n",
       "    <tr>\n",
       "      <th>3</th>\n",
       "      <td>853541</td>\n",
       "      <td>2017-01-08 18:28:03.143765</td>\n",
       "      <td>treatment</td>\n",
       "      <td>new_page</td>\n",
       "      <td>0</td>\n",
       "    </tr>\n",
       "    <tr>\n",
       "      <th>4</th>\n",
       "      <td>864975</td>\n",
       "      <td>2017-01-21 01:52:26.210827</td>\n",
       "      <td>control</td>\n",
       "      <td>old_page</td>\n",
       "      <td>1</td>\n",
       "    </tr>\n",
       "  </tbody>\n",
       "</table>\n",
       "</div>"
      ],
      "text/plain": [
       "   user_id                   timestamp      group landing_page  converted\n",
       "0   851104  2017-01-21 22:11:48.556739    control     old_page          0\n",
       "1   804228  2017-01-12 08:01:45.159739    control     old_page          0\n",
       "2   661590  2017-01-11 16:55:06.154213  treatment     new_page          0\n",
       "3   853541  2017-01-08 18:28:03.143765  treatment     new_page          0\n",
       "4   864975  2017-01-21 01:52:26.210827    control     old_page          1"
      ]
     },
     "execution_count": 6,
     "metadata": {},
     "output_type": "execute_result"
    }
   ],
   "source": [
    "# Explore the data (part 1). \n",
    "# As far as we can see, the dataframe contains the following columns: user_id, timestamp, group, landing_page, converted.\n",
    "\n",
    "df.head()"
   ]
  },
  {
   "cell_type": "code",
   "execution_count": 7,
   "id": "6fb14973-2804-490d-95ba-a6ba10da5cb4",
   "metadata": {},
   "outputs": [
    {
     "name": "stdout",
     "output_type": "stream",
     "text": [
      "<class 'pandas.core.frame.DataFrame'>\n",
      "RangeIndex: 294478 entries, 0 to 294477\n",
      "Data columns (total 5 columns):\n",
      " #   Column        Non-Null Count   Dtype \n",
      "---  ------        --------------   ----- \n",
      " 0   user_id       294478 non-null  int64 \n",
      " 1   timestamp     294478 non-null  object\n",
      " 2   group         294478 non-null  object\n",
      " 3   landing_page  294478 non-null  object\n",
      " 4   converted     294478 non-null  int64 \n",
      "dtypes: int64(2), object(3)\n",
      "memory usage: 11.2+ MB\n"
     ]
    }
   ],
   "source": [
    "# Explore the data (part 2).\n",
    "# There are no missing values, all columns have the same number of entries, and both user_id and converted are integers. The timestamp, group, and landing_page columns are currently of type object.\n",
    "\n",
    "df.info()"
   ]
  },
  {
   "cell_type": "code",
   "execution_count": 8,
   "id": "acd29225-be32-4fe3-89aa-dfccd93ad8d9",
   "metadata": {},
   "outputs": [],
   "source": [
    "# Align groups to their specific landing pages.\n",
    "\n",
    "df_clean = df[\n",
    "    ((df['group'] == 'control') & (df['landing_page'] == 'old_page')) |\n",
    "    ((df['group'] == 'treatment') & (df['landing_page'] == 'new_page'))\n",
    "]"
   ]
  },
  {
   "cell_type": "code",
   "execution_count": 9,
   "id": "693ad893-7e06-459d-ae20-bad6ded76fc7",
   "metadata": {},
   "outputs": [
    {
     "name": "stdout",
     "output_type": "stream",
     "text": [
      "group\n",
      "control      145274\n",
      "treatment    145311\n",
      "Name: converted, dtype: int64\n"
     ]
    }
   ],
   "source": [
    "# Count the number of occurrences of each group.\n",
    "\n",
    "total_counts = df_clean.groupby('group')['converted'].count()\n",
    "print(total_counts)"
   ]
  },
  {
   "cell_type": "code",
   "execution_count": 10,
   "id": "ae880eeb-9632-4579-ba39-446e201f3ca0",
   "metadata": {},
   "outputs": [],
   "source": [
    "# Count the number of users converted (1) with method sum.\n",
    "\n",
    "conversion_counts = df_clean.groupby('group')['converted'].sum()"
   ]
  },
  {
   "cell_type": "code",
   "execution_count": 11,
   "id": "4d504672-e028-423f-904f-b21a6ee1173a",
   "metadata": {},
   "outputs": [
    {
     "name": "stdout",
     "output_type": "stream",
     "text": [
      "group\n",
      "control      17489\n",
      "treatment    17264\n",
      "Name: converted, dtype: int64\n"
     ]
    }
   ],
   "source": [
    "print(conversion_counts)"
   ]
  },
  {
   "cell_type": "code",
   "execution_count": 12,
   "id": "2ca71908-ae02-4aab-99c7-877eab72d967",
   "metadata": {},
   "outputs": [
    {
     "name": "stdout",
     "output_type": "stream",
     "text": [
      "Z-statistic: 1.312\n",
      "P-value: 0.1897\n"
     ]
    }
   ],
   "source": [
    "# Interpretation:\n",
    "# The p-value of 0.1897 is greater than the significance level of 0.05,\n",
    "# so we fail to reject the null hypothesis. This suggests that the\n",
    "# observed difference in conversion rates between groups A and B is not statistically significant.\n",
    "\n",
    "# The z-statistic of 1.312 falls within the range of expected random variation\n",
    "# under the null hypothesis and does not indicate a strong deviation.\n",
    "\n",
    "z_stat, p_val = proportions_ztest(count=conversion_counts.values, nobs=total_counts.values)\n",
    "print(f\"Z-statistic: {z_stat:.3f}\")\n",
    "print(f\"P-value: {p_val:.4f}\")"
   ]
  },
  {
   "cell_type": "code",
   "execution_count": 13,
   "id": "f13011aa-7919-4889-afe8-568a376bf1d9",
   "metadata": {},
   "outputs": [
    {
     "data": {
      "image/png": "[encoded data removed]",
      "text/plain": [
       "<Figure size 640x480 with 1 Axes>"
      ]
     },
     "metadata": {},
     "output_type": "display_data"
    }
   ],
   "source": [
    "# Count users per group.\n",
    "group_counts = df['group'].value_counts().sort_index()\n",
    "conversion_counts = df[df['converted'] == 1]['group'].value_counts().sort_index()\n",
    "\n",
    "# Creat positions in X axis per bar.\n",
    "x = np.arange(len(group_counts))  # [0, 1] for A and B groups\n",
    "width = 0.35  # Width for each bar\n",
    "\n",
    "# Graph bars\n",
    "fig, ax = plt.subplots()\n",
    "bars1 = ax.bar(x - width/2, group_counts.values, width, label='Total users', color='#7FB3D5')     \n",
    "bars2 = ax.bar(x + width/2, conversion_counts.values, width, label='Converted users', color='#2E86C1')  \n",
    "\n",
    "# Labels and ticks\n",
    "ax.set_xticks(x)\n",
    "ax.set_xticklabels(group_counts.index)\n",
    "ax.set_xlabel('Group')\n",
    "ax.set_ylabel('Number of users')\n",
    "ax.set_title('Total users vs. converted users by group')\n",
    "ax.legend()\n",
    "\n",
    "plt.show()"
   ]
  },
  {
   "cell_type": "code",
   "execution_count": 14,
   "id": "f117ea76-b5b3-4925-bf12-0d715b688723",
   "metadata": {},
   "outputs": [],
   "source": [
    "# Conclusion\n",
    "\n",
    "# The Z-statistic and p-value indicate that the new page does not show a significant difference in conversion compared to the old page.\n",
    "# In this case, it might be helpful to explore a different page design and run another A/B test to evaluate its effectiveness."
   ]
  }
 ],
 "metadata": {
  "kernelspec": {
   "display_name": "Python [conda env:base] *",
   "language": "python",
   "name": "conda-base-py"
  },
  "language_info": {
   "codemirror_mode": {
    "name": "ipython",
    "version": 3
   },
   "file_extension": ".py",
   "mimetype": "text/x-python",
   "name": "python",
   "nbconvert_exporter": "python",
   "pygments_lexer": "ipython3",
   "version": "3.12.7"
  }
 },
 "nbformat": 4,
 "nbformat_minor": 5
}
