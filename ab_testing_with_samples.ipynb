{
 "cells": [
  {
   "cell_type": "code",
   "execution_count": 1,
   "id": "b9206ba6-5088-4508-b8c8-ffdd002e5780",
   "metadata": {},
   "outputs": [],
   "source": [
    "# Import the libraries.\n",
    "\n",
    "import pandas as pd\n",
    "import zipfile\n",
    "import kaggle\n",
    "import numpy as np\n",
    "import matplotlib.pyplot as plt\n",
    "import seaborn as sns\n",
    "from statsmodels.stats.proportion import proportions_ztest\n",
    "import statsmodels.stats.api as sms\n",
    "import scipy.stats as stats"
   ]
  },
  {
   "cell_type": "code",
   "execution_count": 2,
   "id": "27a11b4a-2f3b-4777-bac5-70c9ec4be730",
   "metadata": {},
   "outputs": [
    {
     "name": "stdout",
     "output_type": "stream",
     "text": [
      "Dataset URL: https://www.kaggle.com/datasets/zhangluyuan/ab-testing\n",
      "License(s): unknown\n",
      "ab-testing.zip: Skipping, found more recently modified local copy (use --force to force download)\n"
     ]
    }
   ],
   "source": [
    "# Download the dataset \"Wine Reviews\" from Kaggle, it will download a zip file.\n",
    "\n",
    "!kaggle datasets download -d zhangluyuan/ab-testing"
   ]
  },
  {
   "cell_type": "code",
   "execution_count": 3,
   "id": "4d1bba17-0d61-47fb-ae32-26c38a92d6b0",
   "metadata": {},
   "outputs": [],
   "source": [
    "# Extract the content from the zip file.\n",
    "\n",
    "zipfile_name = 'ab-testing.zip'\n",
    "with zipfile.ZipFile(zipfile_name, 'r') as file:\n",
    "    file.extractall()"
   ]
  },
  {
   "cell_type": "code",
   "execution_count": 4,
   "id": "2c652988-203a-467b-adb3-8128bddf7ce5",
   "metadata": {},
   "outputs": [],
   "source": [
    "# Read in the csv as a pandas dataframe.\n",
    "\n",
    "df = pd.read_csv('ab_data.csv')"
   ]
  },
  {
   "cell_type": "code",
   "execution_count": 5,
   "id": "170aa2e8-3682-4805-99a6-695d1352367d",
   "metadata": {},
   "outputs": [
    {
     "data": {
      "text/html": [
       "<div>\n",
       "<style scoped>\n",
       "    .dataframe tbody tr th:only-of-type {\n",
       "        vertical-align: middle;\n",
       "    }\n",
       "\n",
       "    .dataframe tbody tr th {\n",
       "        vertical-align: top;\n",
       "    }\n",
       "\n",
       "    .dataframe thead th {\n",
       "        text-align: right;\n",
       "    }\n",
       "</style>\n",
       "<table border=\"1\" class=\"dataframe\">\n",
       "  <thead>\n",
       "    <tr style=\"text-align: right;\">\n",
       "      <th></th>\n",
       "      <th>user_id</th>\n",
       "      <th>timestamp</th>\n",
       "      <th>group</th>\n",
       "      <th>landing_page</th>\n",
       "      <th>converted</th>\n",
       "    </tr>\n",
       "  </thead>\n",
       "  <tbody>\n",
       "    <tr>\n",
       "      <th>238775</th>\n",
       "      <td>664098</td>\n",
       "      <td>2017-01-23 23:36:47.443678</td>\n",
       "      <td>treatment</td>\n",
       "      <td>new_page</td>\n",
       "      <td>0</td>\n",
       "    </tr>\n",
       "    <tr>\n",
       "      <th>22220</th>\n",
       "      <td>783134</td>\n",
       "      <td>2017-01-09 07:27:25.605993</td>\n",
       "      <td>control</td>\n",
       "      <td>old_page</td>\n",
       "      <td>1</td>\n",
       "    </tr>\n",
       "    <tr>\n",
       "      <th>36058</th>\n",
       "      <td>902115</td>\n",
       "      <td>2017-01-06 00:50:10.269596</td>\n",
       "      <td>control</td>\n",
       "      <td>old_page</td>\n",
       "      <td>0</td>\n",
       "    </tr>\n",
       "    <tr>\n",
       "      <th>105682</th>\n",
       "      <td>773321</td>\n",
       "      <td>2017-01-20 20:58:24.064193</td>\n",
       "      <td>treatment</td>\n",
       "      <td>new_page</td>\n",
       "      <td>0</td>\n",
       "    </tr>\n",
       "    <tr>\n",
       "      <th>176138</th>\n",
       "      <td>632748</td>\n",
       "      <td>2017-01-18 07:29:01.410143</td>\n",
       "      <td>treatment</td>\n",
       "      <td>new_page</td>\n",
       "      <td>0</td>\n",
       "    </tr>\n",
       "    <tr>\n",
       "      <th>89435</th>\n",
       "      <td>802656</td>\n",
       "      <td>2017-01-20 18:25:03.154497</td>\n",
       "      <td>control</td>\n",
       "      <td>old_page</td>\n",
       "      <td>0</td>\n",
       "    </tr>\n",
       "    <tr>\n",
       "      <th>238747</th>\n",
       "      <td>665003</td>\n",
       "      <td>2017-01-07 07:25:21.260358</td>\n",
       "      <td>control</td>\n",
       "      <td>old_page</td>\n",
       "      <td>1</td>\n",
       "    </tr>\n",
       "    <tr>\n",
       "      <th>242198</th>\n",
       "      <td>908736</td>\n",
       "      <td>2017-01-17 19:17:38.745277</td>\n",
       "      <td>control</td>\n",
       "      <td>old_page</td>\n",
       "      <td>0</td>\n",
       "    </tr>\n",
       "    <tr>\n",
       "      <th>156239</th>\n",
       "      <td>894340</td>\n",
       "      <td>2017-01-21 04:08:26.492242</td>\n",
       "      <td>control</td>\n",
       "      <td>old_page</td>\n",
       "      <td>0</td>\n",
       "    </tr>\n",
       "    <tr>\n",
       "      <th>81202</th>\n",
       "      <td>794505</td>\n",
       "      <td>2017-01-23 12:06:53.552206</td>\n",
       "      <td>treatment</td>\n",
       "      <td>new_page</td>\n",
       "      <td>1</td>\n",
       "    </tr>\n",
       "  </tbody>\n",
       "</table>\n",
       "</div>"
      ],
      "text/plain": [
       "        user_id                   timestamp      group landing_page  converted\n",
       "238775   664098  2017-01-23 23:36:47.443678  treatment     new_page          0\n",
       "22220    783134  2017-01-09 07:27:25.605993    control     old_page          1\n",
       "36058    902115  2017-01-06 00:50:10.269596    control     old_page          0\n",
       "105682   773321  2017-01-20 20:58:24.064193  treatment     new_page          0\n",
       "176138   632748  2017-01-18 07:29:01.410143  treatment     new_page          0\n",
       "89435    802656  2017-01-20 18:25:03.154497    control     old_page          0\n",
       "238747   665003  2017-01-07 07:25:21.260358    control     old_page          1\n",
       "242198   908736  2017-01-17 19:17:38.745277    control     old_page          0\n",
       "156239   894340  2017-01-21 04:08:26.492242    control     old_page          0\n",
       "81202    794505  2017-01-23 12:06:53.552206  treatment     new_page          1"
      ]
     },
     "execution_count": 5,
     "metadata": {},
     "output_type": "execute_result"
    }
   ],
   "source": [
    "# Explore the data (part 1). \n",
    "# As far as we can see, the dataframe contains the following columns: user_id, timestamp, group, landing_page, converted.\n",
    "\n",
    "df.sample(10)"
   ]
  },
  {
   "cell_type": "code",
   "execution_count": 6,
   "id": "93c3a50f-53e5-4dcc-97fc-0183fd0faa73",
   "metadata": {},
   "outputs": [
    {
     "data": {
      "text/plain": [
       "(294478, 5)"
      ]
     },
     "execution_count": 6,
     "metadata": {},
     "output_type": "execute_result"
    }
   ],
   "source": [
    "# Explore shape of the dataframe: 294,478 rows and 5 columns.\n",
    "\n",
    "df.shape"
   ]
  },
  {
   "cell_type": "code",
   "execution_count": 7,
   "id": "28e99cf0-b584-4322-a850-f67083a0c4be",
   "metadata": {},
   "outputs": [
    {
     "data": {
      "text/plain": [
       "user_id         290584\n",
       "timestamp       294478\n",
       "group                2\n",
       "landing_page         2\n",
       "converted            2\n",
       "dtype: int64"
      ]
     },
     "execution_count": 7,
     "metadata": {},
     "output_type": "execute_result"
    }
   ],
   "source": [
    "# The key insight of this code is that the number of rows (294,478) is greater than the number of unique users (290,584). That means some users appear more than once.\n",
    "# In an A/B test, each user should only be in one group, so duplicate users can bias the results.\n",
    "\n",
    "df.nunique()"
   ]
  },
  {
   "cell_type": "code",
   "execution_count": 8,
   "id": "8c8f33a2-5270-4331-8196-4f5757f39250",
   "metadata": {},
   "outputs": [
    {
     "data": {
      "text/plain": [
       "user_id         0\n",
       "timestamp       0\n",
       "group           0\n",
       "landing_page    0\n",
       "converted       0\n",
       "dtype: int64"
      ]
     },
     "execution_count": 8,
     "metadata": {},
     "output_type": "execute_result"
    }
   ],
   "source": [
    "# There's no null values.\n",
    "\n",
    "df.isna().sum()"
   ]
  },
  {
   "cell_type": "code",
   "execution_count": 9,
   "id": "9149ee6b-81b1-4bc0-8713-4c996cebe349",
   "metadata": {},
   "outputs": [
    {
     "name": "stdout",
     "output_type": "stream",
     "text": [
      "<class 'pandas.core.frame.DataFrame'>\n",
      "RangeIndex: 294478 entries, 0 to 294477\n",
      "Data columns (total 5 columns):\n",
      " #   Column        Non-Null Count   Dtype \n",
      "---  ------        --------------   ----- \n",
      " 0   user_id       294478 non-null  int64 \n",
      " 1   timestamp     294478 non-null  object\n",
      " 2   group         294478 non-null  object\n",
      " 3   landing_page  294478 non-null  object\n",
      " 4   converted     294478 non-null  int64 \n",
      "dtypes: int64(2), object(3)\n",
      "memory usage: 11.2+ MB\n"
     ]
    }
   ],
   "source": [
    "# The next it's the information of the whole dataframe.\n",
    "# The content of the 5 columns are the following:\n",
    "# 'user_id' contains user ids\n",
    "# 'timestamp' is about when a session was\n",
    "# 'group' contains 2 variables: control and treatment\n",
    "# 'landing_page' is about what version of a site a user saw\n",
    "# 'converted' says us about user's behavior: if a user made a purchase (1) or not (0)\n",
    "\n",
    "df.info()"
   ]
  },
  {
   "cell_type": "code",
   "execution_count": 10,
   "id": "4086da29-9a43-4e27-85f8-aceb6d148972",
   "metadata": {},
   "outputs": [
    {
     "data": {
      "text/html": [
       "<div>\n",
       "<style scoped>\n",
       "    .dataframe tbody tr th:only-of-type {\n",
       "        vertical-align: middle;\n",
       "    }\n",
       "\n",
       "    .dataframe tbody tr th {\n",
       "        vertical-align: top;\n",
       "    }\n",
       "\n",
       "    .dataframe thead th {\n",
       "        text-align: right;\n",
       "    }\n",
       "</style>\n",
       "<table border=\"1\" class=\"dataframe\">\n",
       "  <thead>\n",
       "    <tr style=\"text-align: right;\">\n",
       "      <th>landing_page</th>\n",
       "      <th>new_page</th>\n",
       "      <th>old_page</th>\n",
       "    </tr>\n",
       "    <tr>\n",
       "      <th>group</th>\n",
       "      <th></th>\n",
       "      <th></th>\n",
       "    </tr>\n",
       "  </thead>\n",
       "  <tbody>\n",
       "    <tr>\n",
       "      <th>control</th>\n",
       "      <td>1928</td>\n",
       "      <td>145274</td>\n",
       "    </tr>\n",
       "    <tr>\n",
       "      <th>treatment</th>\n",
       "      <td>145311</td>\n",
       "      <td>1965</td>\n",
       "    </tr>\n",
       "  </tbody>\n",
       "</table>\n",
       "</div>"
      ],
      "text/plain": [
       "landing_page  new_page  old_page\n",
       "group                           \n",
       "control           1928    145274\n",
       "treatment       145311      1965"
      ]
     },
     "execution_count": 10,
     "metadata": {},
     "output_type": "execute_result"
    }
   ],
   "source": [
    "# The following code shows some mismatches; control group should only the old page and treatment group should only see the new page.\n",
    "\n",
    "pd.crosstab(df['group'], df['landing_page'])"
   ]
  },
  {
   "cell_type": "code",
   "execution_count": 11,
   "id": "17188c77-34ec-4cbe-aeaf-d296efca9f11",
   "metadata": {},
   "outputs": [],
   "source": [
    "# Align groups to their specific landing pages.\n",
    "\n",
    "df_clean = df[\n",
    "    ((df['group'] == 'control') & (df['landing_page'] == 'old_page')) |\n",
    "    ((df['group'] == 'treatment') & (df['landing_page'] == 'new_page'))\n",
    "]"
   ]
  },
  {
   "cell_type": "code",
   "execution_count": 12,
   "id": "f2ffe991-695a-4bf4-9105-03335c5576b6",
   "metadata": {},
   "outputs": [
    {
     "data": {
      "text/html": [
       "<div>\n",
       "<style scoped>\n",
       "    .dataframe tbody tr th:only-of-type {\n",
       "        vertical-align: middle;\n",
       "    }\n",
       "\n",
       "    .dataframe tbody tr th {\n",
       "        vertical-align: top;\n",
       "    }\n",
       "\n",
       "    .dataframe thead th {\n",
       "        text-align: right;\n",
       "    }\n",
       "</style>\n",
       "<table border=\"1\" class=\"dataframe\">\n",
       "  <thead>\n",
       "    <tr style=\"text-align: right;\">\n",
       "      <th>landing_page</th>\n",
       "      <th>new_page</th>\n",
       "      <th>old_page</th>\n",
       "    </tr>\n",
       "    <tr>\n",
       "      <th>group</th>\n",
       "      <th></th>\n",
       "      <th></th>\n",
       "    </tr>\n",
       "  </thead>\n",
       "  <tbody>\n",
       "    <tr>\n",
       "      <th>control</th>\n",
       "      <td>0</td>\n",
       "      <td>145274</td>\n",
       "    </tr>\n",
       "    <tr>\n",
       "      <th>treatment</th>\n",
       "      <td>145311</td>\n",
       "      <td>0</td>\n",
       "    </tr>\n",
       "  </tbody>\n",
       "</table>\n",
       "</div>"
      ],
      "text/plain": [
       "landing_page  new_page  old_page\n",
       "group                           \n",
       "control              0    145274\n",
       "treatment       145311         0"
      ]
     },
     "execution_count": 12,
     "metadata": {},
     "output_type": "execute_result"
    }
   ],
   "source": [
    "# Validate the groups are correctly align.\n",
    "\n",
    "pd.crosstab(df_clean['group'], df_clean['landing_page'])"
   ]
  },
  {
   "cell_type": "code",
   "execution_count": 13,
   "id": "8e532cfb-cdbb-4111-870b-3f85b561e200",
   "metadata": {},
   "outputs": [
    {
     "name": "stdout",
     "output_type": "stream",
     "text": [
      "5539\n"
     ]
    }
   ],
   "source": [
    "# Considering that the company has a conversion rate (number of purchases/number of visits) of 11% and we want to increase it to 13%,\n",
    "# we need 5,539 users in control and 5,539 users in treatment group.\n",
    "\n",
    "effect_size = sms.proportion_effectsize(0.11, 0.13)    # Calculating effect size based on our expected rates\n",
    "\n",
    "required_n = sms.NormalIndPower().solve_power(\n",
    "    effect_size, \n",
    "    power=0.9,  #power of a test (defualt is 0.8)\n",
    "    alpha=0.05, #p-value\n",
    "    ratio=1\n",
    "    )                                                  # Calculating sample size needed\n",
    "\n",
    "required_n = round(required_n)                          # Rounding up to next whole number                          \n",
    "\n",
    "print(required_n)"
   ]
  },
  {
   "cell_type": "code",
   "execution_count": 14,
   "id": "049c7931-b8df-4bce-8063-1f085103e00d",
   "metadata": {},
   "outputs": [
    {
     "data": {
      "text/plain": [
       "user_id      290584\n",
       "timestamp    290585\n",
       "dtype: int64"
      ]
     },
     "execution_count": 14,
     "metadata": {},
     "output_type": "execute_result"
    }
   ],
   "source": [
    "# Align groups helped with the duplicates, despite there's just one another duplicate.\n",
    "\n",
    "df_clean[['user_id','timestamp']].nunique()"
   ]
  },
  {
   "cell_type": "code",
   "execution_count": 15,
   "id": "747aee93-1baa-46bc-b203-f5aa4fe6a67e",
   "metadata": {},
   "outputs": [
    {
     "data": {
      "text/plain": [
       "user_id\n",
       "773192    2\n",
       "851104    1\n",
       "688307    1\n",
       "718297    1\n",
       "838144    1\n",
       "         ..\n",
       "755610    1\n",
       "804629    1\n",
       "837875    1\n",
       "889019    1\n",
       "715931    1\n",
       "Name: count, Length: 290584, dtype: int64"
      ]
     },
     "execution_count": 15,
     "metadata": {},
     "output_type": "execute_result"
    }
   ],
   "source": [
    "# The one that has more that one occurance it is the duplicated one.\n",
    "\n",
    "df_clean.user_id.value_counts()"
   ]
  },
  {
   "cell_type": "code",
   "execution_count": 16,
   "id": "c0dc7fb2-d45b-4856-a53f-6b79d289b604",
   "metadata": {},
   "outputs": [
    {
     "data": {
      "text/plain": [
       "Index([773192], dtype='int64', name='user_id')"
      ]
     },
     "execution_count": 16,
     "metadata": {},
     "output_type": "execute_result"
    }
   ],
   "source": [
    "# Get the index of the duplicate. \n",
    "\n",
    "session_counts = df_clean.user_id.value_counts()\n",
    "double_users = session_counts[session_counts>1].index\n",
    "\n",
    "double_users"
   ]
  },
  {
   "cell_type": "code",
   "execution_count": 17,
   "id": "b53740a8-d48d-44a8-9849-d83efa7e9b4e",
   "metadata": {},
   "outputs": [
    {
     "data": {
      "text/plain": [
       "(290583, 5)"
      ]
     },
     "execution_count": 17,
     "metadata": {},
     "output_type": "execute_result"
    }
   ],
   "source": [
    "# Remove the duplicate.\n",
    "\n",
    "df_clean = df_clean[~df_clean['user_id'].isin(double_users)]\n",
    "df_clean.shape"
   ]
  },
  {
   "cell_type": "code",
   "execution_count": 18,
   "id": "548c9d54-f5ca-4c49-ac9c-38a2a7aab94f",
   "metadata": {},
   "outputs": [],
   "source": [
    "# Create the samples of each group.\n",
    "\n",
    "control_group = df.query('group == \"control\"').sample(required_n)\n",
    "treatment_group = df.query('group == \"treatment\"').sample(required_n)"
   ]
  },
  {
   "cell_type": "code",
   "execution_count": 19,
   "id": "7c58938f-4312-42ae-9412-14bd112545d7",
   "metadata": {},
   "outputs": [
    {
     "data": {
      "text/html": [
       "<div>\n",
       "<style scoped>\n",
       "    .dataframe tbody tr th:only-of-type {\n",
       "        vertical-align: middle;\n",
       "    }\n",
       "\n",
       "    .dataframe tbody tr th {\n",
       "        vertical-align: top;\n",
       "    }\n",
       "\n",
       "    .dataframe thead th {\n",
       "        text-align: right;\n",
       "    }\n",
       "</style>\n",
       "<table border=\"1\" class=\"dataframe\">\n",
       "  <thead>\n",
       "    <tr style=\"text-align: right;\">\n",
       "      <th></th>\n",
       "      <th>user_id</th>\n",
       "      <th>timestamp</th>\n",
       "      <th>group</th>\n",
       "      <th>landing_page</th>\n",
       "      <th>converted</th>\n",
       "    </tr>\n",
       "  </thead>\n",
       "  <tbody>\n",
       "    <tr>\n",
       "      <th>215655</th>\n",
       "      <td>778281</td>\n",
       "      <td>2017-01-22 23:10:21.440631</td>\n",
       "      <td>control</td>\n",
       "      <td>old_page</td>\n",
       "      <td>0</td>\n",
       "    </tr>\n",
       "    <tr>\n",
       "      <th>100597</th>\n",
       "      <td>728229</td>\n",
       "      <td>2017-01-18 22:40:15.351221</td>\n",
       "      <td>control</td>\n",
       "      <td>old_page</td>\n",
       "      <td>0</td>\n",
       "    </tr>\n",
       "    <tr>\n",
       "      <th>105849</th>\n",
       "      <td>906831</td>\n",
       "      <td>2017-01-11 20:08:36.630734</td>\n",
       "      <td>control</td>\n",
       "      <td>old_page</td>\n",
       "      <td>1</td>\n",
       "    </tr>\n",
       "    <tr>\n",
       "      <th>177762</th>\n",
       "      <td>870756</td>\n",
       "      <td>2017-01-19 04:57:06.533906</td>\n",
       "      <td>control</td>\n",
       "      <td>old_page</td>\n",
       "      <td>0</td>\n",
       "    </tr>\n",
       "    <tr>\n",
       "      <th>198192</th>\n",
       "      <td>848742</td>\n",
       "      <td>2017-01-20 23:29:05.457594</td>\n",
       "      <td>control</td>\n",
       "      <td>old_page</td>\n",
       "      <td>0</td>\n",
       "    </tr>\n",
       "  </tbody>\n",
       "</table>\n",
       "</div>"
      ],
      "text/plain": [
       "        user_id                   timestamp    group landing_page  converted\n",
       "215655   778281  2017-01-22 23:10:21.440631  control     old_page          0\n",
       "100597   728229  2017-01-18 22:40:15.351221  control     old_page          0\n",
       "105849   906831  2017-01-11 20:08:36.630734  control     old_page          1\n",
       "177762   870756  2017-01-19 04:57:06.533906  control     old_page          0\n",
       "198192   848742  2017-01-20 23:29:05.457594  control     old_page          0"
      ]
     },
     "execution_count": 19,
     "metadata": {},
     "output_type": "execute_result"
    }
   ],
   "source": [
    "# Control group.\n",
    "\n",
    "control_group.head()"
   ]
  },
  {
   "cell_type": "code",
   "execution_count": 20,
   "id": "6fb5a602-291d-489f-96b1-c71721ded5c8",
   "metadata": {},
   "outputs": [
    {
     "data": {
      "text/html": [
       "<div>\n",
       "<style scoped>\n",
       "    .dataframe tbody tr th:only-of-type {\n",
       "        vertical-align: middle;\n",
       "    }\n",
       "\n",
       "    .dataframe tbody tr th {\n",
       "        vertical-align: top;\n",
       "    }\n",
       "\n",
       "    .dataframe thead th {\n",
       "        text-align: right;\n",
       "    }\n",
       "</style>\n",
       "<table border=\"1\" class=\"dataframe\">\n",
       "  <thead>\n",
       "    <tr style=\"text-align: right;\">\n",
       "      <th></th>\n",
       "      <th>user_id</th>\n",
       "      <th>timestamp</th>\n",
       "      <th>group</th>\n",
       "      <th>landing_page</th>\n",
       "      <th>converted</th>\n",
       "    </tr>\n",
       "  </thead>\n",
       "  <tbody>\n",
       "    <tr>\n",
       "      <th>136200</th>\n",
       "      <td>765081</td>\n",
       "      <td>2017-01-05 12:24:25.337718</td>\n",
       "      <td>treatment</td>\n",
       "      <td>new_page</td>\n",
       "      <td>0</td>\n",
       "    </tr>\n",
       "    <tr>\n",
       "      <th>133978</th>\n",
       "      <td>797388</td>\n",
       "      <td>2017-01-15 16:51:43.217936</td>\n",
       "      <td>treatment</td>\n",
       "      <td>new_page</td>\n",
       "      <td>0</td>\n",
       "    </tr>\n",
       "    <tr>\n",
       "      <th>257411</th>\n",
       "      <td>888150</td>\n",
       "      <td>2017-01-07 12:56:36.476913</td>\n",
       "      <td>treatment</td>\n",
       "      <td>new_page</td>\n",
       "      <td>0</td>\n",
       "    </tr>\n",
       "    <tr>\n",
       "      <th>274724</th>\n",
       "      <td>814802</td>\n",
       "      <td>2017-01-08 09:23:19.977893</td>\n",
       "      <td>treatment</td>\n",
       "      <td>new_page</td>\n",
       "      <td>1</td>\n",
       "    </tr>\n",
       "    <tr>\n",
       "      <th>61509</th>\n",
       "      <td>811949</td>\n",
       "      <td>2017-01-07 07:02:17.581410</td>\n",
       "      <td>treatment</td>\n",
       "      <td>new_page</td>\n",
       "      <td>0</td>\n",
       "    </tr>\n",
       "  </tbody>\n",
       "</table>\n",
       "</div>"
      ],
      "text/plain": [
       "        user_id                   timestamp      group landing_page  converted\n",
       "136200   765081  2017-01-05 12:24:25.337718  treatment     new_page          0\n",
       "133978   797388  2017-01-15 16:51:43.217936  treatment     new_page          0\n",
       "257411   888150  2017-01-07 12:56:36.476913  treatment     new_page          0\n",
       "274724   814802  2017-01-08 09:23:19.977893  treatment     new_page          1\n",
       "61509    811949  2017-01-07 07:02:17.581410  treatment     new_page          0"
      ]
     },
     "execution_count": 20,
     "metadata": {},
     "output_type": "execute_result"
    }
   ],
   "source": [
    "# Treatment group.\n",
    "\n",
    "treatment_group.head()"
   ]
  },
  {
   "cell_type": "code",
   "execution_count": 21,
   "id": "50ccc048-7315-4aab-819c-9d18d40ee9bc",
   "metadata": {},
   "outputs": [],
   "source": [
    "# Concat two groups.\n",
    "\n",
    "ab_test = pd.concat([control_group, treatment_group], axis=0)\n",
    "ab_test.reset_index(inplace=True, drop=True)"
   ]
  },
  {
   "cell_type": "code",
   "execution_count": 22,
   "id": "56615522-f89d-4f4b-ac1e-0947fc577c05",
   "metadata": {},
   "outputs": [
    {
     "data": {
      "text/html": [
       "<div>\n",
       "<style scoped>\n",
       "    .dataframe tbody tr th:only-of-type {\n",
       "        vertical-align: middle;\n",
       "    }\n",
       "\n",
       "    .dataframe tbody tr th {\n",
       "        vertical-align: top;\n",
       "    }\n",
       "\n",
       "    .dataframe thead th {\n",
       "        text-align: right;\n",
       "    }\n",
       "</style>\n",
       "<table border=\"1\" class=\"dataframe\">\n",
       "  <thead>\n",
       "    <tr style=\"text-align: right;\">\n",
       "      <th></th>\n",
       "      <th>user_id</th>\n",
       "      <th>timestamp</th>\n",
       "      <th>group</th>\n",
       "      <th>landing_page</th>\n",
       "      <th>converted</th>\n",
       "    </tr>\n",
       "  </thead>\n",
       "  <tbody>\n",
       "    <tr>\n",
       "      <th>0</th>\n",
       "      <td>778281</td>\n",
       "      <td>2017-01-22 23:10:21.440631</td>\n",
       "      <td>control</td>\n",
       "      <td>old_page</td>\n",
       "      <td>0</td>\n",
       "    </tr>\n",
       "    <tr>\n",
       "      <th>1</th>\n",
       "      <td>728229</td>\n",
       "      <td>2017-01-18 22:40:15.351221</td>\n",
       "      <td>control</td>\n",
       "      <td>old_page</td>\n",
       "      <td>0</td>\n",
       "    </tr>\n",
       "    <tr>\n",
       "      <th>2</th>\n",
       "      <td>906831</td>\n",
       "      <td>2017-01-11 20:08:36.630734</td>\n",
       "      <td>control</td>\n",
       "      <td>old_page</td>\n",
       "      <td>1</td>\n",
       "    </tr>\n",
       "    <tr>\n",
       "      <th>3</th>\n",
       "      <td>870756</td>\n",
       "      <td>2017-01-19 04:57:06.533906</td>\n",
       "      <td>control</td>\n",
       "      <td>old_page</td>\n",
       "      <td>0</td>\n",
       "    </tr>\n",
       "    <tr>\n",
       "      <th>4</th>\n",
       "      <td>848742</td>\n",
       "      <td>2017-01-20 23:29:05.457594</td>\n",
       "      <td>control</td>\n",
       "      <td>old_page</td>\n",
       "      <td>0</td>\n",
       "    </tr>\n",
       "  </tbody>\n",
       "</table>\n",
       "</div>"
      ],
      "text/plain": [
       "   user_id                   timestamp    group landing_page  converted\n",
       "0   778281  2017-01-22 23:10:21.440631  control     old_page          0\n",
       "1   728229  2017-01-18 22:40:15.351221  control     old_page          0\n",
       "2   906831  2017-01-11 20:08:36.630734  control     old_page          1\n",
       "3   870756  2017-01-19 04:57:06.533906  control     old_page          0\n",
       "4   848742  2017-01-20 23:29:05.457594  control     old_page          0"
      ]
     },
     "execution_count": 22,
     "metadata": {},
     "output_type": "execute_result"
    }
   ],
   "source": [
    "# View of the df ab_test.\n",
    "\n",
    "ab_test.head()"
   ]
  },
  {
   "cell_type": "code",
   "execution_count": 23,
   "id": "5b1d0c33-54e7-4f56-b1a0-90d4a25586a2",
   "metadata": {},
   "outputs": [
    {
     "name": "stdout",
     "output_type": "stream",
     "text": [
      "<class 'pandas.core.frame.DataFrame'>\n",
      "RangeIndex: 11078 entries, 0 to 11077\n",
      "Data columns (total 5 columns):\n",
      " #   Column        Non-Null Count  Dtype \n",
      "---  ------        --------------  ----- \n",
      " 0   user_id       11078 non-null  int64 \n",
      " 1   timestamp     11078 non-null  object\n",
      " 2   group         11078 non-null  object\n",
      " 3   landing_page  11078 non-null  object\n",
      " 4   converted     11078 non-null  int64 \n",
      "dtypes: int64(2), object(3)\n",
      "memory usage: 432.9+ KB\n"
     ]
    }
   ],
   "source": [
    "# Info of the df ab_test.\n",
    "\n",
    "ab_test.info()"
   ]
  },
  {
   "cell_type": "code",
   "execution_count": 24,
   "id": "feea8c39-2b57-4978-8f97-03b44dc44a54",
   "metadata": {},
   "outputs": [
    {
     "data": {
      "text/plain": [
       "group\n",
       "control      5539\n",
       "treatment    5539\n",
       "Name: count, dtype: int64"
      ]
     },
     "execution_count": 24,
     "metadata": {},
     "output_type": "execute_result"
    }
   ],
   "source": [
    "# Validate the required number of samples for each group.\n",
    "\n",
    "ab_test.group.value_counts()"
   ]
  },
  {
   "cell_type": "code",
   "execution_count": 25,
   "id": "2d91b174-7ef9-44b7-950d-c316da94ede9",
   "metadata": {},
   "outputs": [
    {
     "name": "stderr",
     "output_type": "stream",
     "text": [
      "/var/folders/_4/yjfxm4z91c16k9w6fph_q_2w0000gn/T/ipykernel_92601/2693458454.py:8: FutureWarning: The provided callable <function mean at 0x103de7420> is currently using SeriesGroupBy.mean. In a future version of pandas, the provided callable will be used directly. To keep current behavior pass the string \"mean\" instead.\n",
      "  conversion_rates = conversion_rates.agg([np.mean, std_p, se_p])\n"
     ]
    },
    {
     "data": {
      "text/html": [
       "<style type=\"text/css\">\n",
       "</style>\n",
       "<table id=\"T_5ebe1\">\n",
       "  <thead>\n",
       "    <tr>\n",
       "      <th class=\"blank level0\" >&nbsp;</th>\n",
       "      <th id=\"T_5ebe1_level0_col0\" class=\"col_heading level0 col0\" >conversion_rate</th>\n",
       "      <th id=\"T_5ebe1_level0_col1\" class=\"col_heading level0 col1\" >std_deviation</th>\n",
       "      <th id=\"T_5ebe1_level0_col2\" class=\"col_heading level0 col2\" >std_error</th>\n",
       "    </tr>\n",
       "    <tr>\n",
       "      <th class=\"index_name level0\" >group</th>\n",
       "      <th class=\"blank col0\" >&nbsp;</th>\n",
       "      <th class=\"blank col1\" >&nbsp;</th>\n",
       "      <th class=\"blank col2\" >&nbsp;</th>\n",
       "    </tr>\n",
       "  </thead>\n",
       "  <tbody>\n",
       "    <tr>\n",
       "      <th id=\"T_5ebe1_level0_row0\" class=\"row_heading level0 row0\" >control</th>\n",
       "      <td id=\"T_5ebe1_row0_col0\" class=\"data row0 col0\" >0.122</td>\n",
       "      <td id=\"T_5ebe1_row0_col1\" class=\"data row0 col1\" >0.327</td>\n",
       "      <td id=\"T_5ebe1_row0_col2\" class=\"data row0 col2\" >0.004</td>\n",
       "    </tr>\n",
       "    <tr>\n",
       "      <th id=\"T_5ebe1_level0_row1\" class=\"row_heading level0 row1\" >treatment</th>\n",
       "      <td id=\"T_5ebe1_row1_col0\" class=\"data row1 col0\" >0.125</td>\n",
       "      <td id=\"T_5ebe1_row1_col1\" class=\"data row1 col1\" >0.330</td>\n",
       "      <td id=\"T_5ebe1_row1_col2\" class=\"data row1 col2\" >0.004</td>\n",
       "    </tr>\n",
       "  </tbody>\n",
       "</table>\n"
      ],
      "text/plain": [
       "<pandas.io.formats.style.Styler at 0x103b20080>"
      ]
     },
     "execution_count": 25,
     "metadata": {},
     "output_type": "execute_result"
    }
   ],
   "source": [
    "# The control group shows 11.9% conversion rate and the treatment group 12.1% conversion rate.\n",
    "\n",
    "conversion_rates = ab_test.groupby('group')['converted']\n",
    "\n",
    "std_p = lambda x: np.std(x, ddof=1)              # Std. deviation of the proportion\n",
    "se_p = lambda x: stats.sem(x, ddof=1)            # Std. error of the proportion (std / sqrt(n))\n",
    "\n",
    "conversion_rates = conversion_rates.agg([np.mean, std_p, se_p])\n",
    "conversion_rates.columns = ['conversion_rate', 'std_deviation', 'std_error']\n",
    "\n",
    "\n",
    "conversion_rates.style.format('{:.3f}')"
   ]
  },
  {
   "cell_type": "code",
   "execution_count": 26,
   "id": "db298705-dfe1-4799-8a39-dbe23de5e931",
   "metadata": {},
   "outputs": [
    {
     "name": "stdout",
     "output_type": "stream",
     "text": [
      "group\n",
      "control      5539\n",
      "treatment    5539\n",
      "Name: converted, dtype: int64\n"
     ]
    }
   ],
   "source": [
    "# Count the number of occurrences of each group.\n",
    "\n",
    "total_counts = ab_test.groupby('group')['converted'].count()\n",
    "print(total_counts)"
   ]
  },
  {
   "cell_type": "code",
   "execution_count": 27,
   "id": "220f06e1-b65b-4569-acb4-90fc7230cc5e",
   "metadata": {},
   "outputs": [
    {
     "name": "stdout",
     "output_type": "stream",
     "text": [
      "group\n",
      "control      676\n",
      "treatment    690\n",
      "Name: converted, dtype: int64\n"
     ]
    }
   ],
   "source": [
    "# Count the number of users converted (1) with method sum.\n",
    "\n",
    "conversion_counts = ab_test.groupby('group')['converted'].sum()\n",
    "print(conversion_counts)"
   ]
  },
  {
   "cell_type": "code",
   "execution_count": 28,
   "id": "cafe766f-9b9b-44c8-a1b3-141cc396727c",
   "metadata": {},
   "outputs": [
    {
     "name": "stdout",
     "output_type": "stream",
     "text": [
      "Z-statistic: -0.405\n",
      "P-value: 0.6858\n"
     ]
    }
   ],
   "source": [
    "# Interpretation:\n",
    "# The p-value of 0.7702 is greater than the significance level of 0.05,\n",
    "# so we fail to reject the null hypothesis. This suggests that the\n",
    "# observed difference in conversion rates between groups A and B is not statistically significant, which in Z-statistic we can see that are not so different between\n",
    "# each other, let's no forget that 0 means that two groups are identical, -0.29 means the treatment group it's just 0.29 standard deviations less than control, a tiny difference.\n",
    "\n",
    "z_stat, p_val = proportions_ztest(count=conversion_counts.values, nobs=total_counts.values)\n",
    "print(f\"Z-statistic: {z_stat:.3f}\")\n",
    "print(f\"P-value: {p_val:.4f}\")"
   ]
  },
  {
   "cell_type": "code",
   "execution_count": 29,
   "id": "26f4dca5-02cc-4634-85b4-bf11994967c0",
   "metadata": {},
   "outputs": [
    {
     "data": {
      "image/png": "[encoded data removed]",
      "text/plain": [
       "<Figure size 640x480 with 1 Axes>"
      ]
     },
     "metadata": {},
     "output_type": "display_data"
    }
   ],
   "source": [
    "# Count users per group.\n",
    "\n",
    "group_counts = ab_test['group'].value_counts().sort_index()\n",
    "conversion_counts = ab_test[ab_test['converted'] == 1]['group'].value_counts().sort_index()\n",
    "\n",
    "# Creat positions in X axis per bar.\n",
    "\n",
    "x = np.arange(len(group_counts))  # [0, 1] for A and B groups\n",
    "width = 0.35  # Width for each bar\n",
    "\n",
    "# Graph bars\n",
    "\n",
    "fig, ax = plt.subplots()\n",
    "bars1 = ax.bar(x - width/2, group_counts.values, width, label='Total users', color='#7FB3D5')     \n",
    "bars2 = ax.bar(x + width/2, conversion_counts.values, width, label='Converted users', color='#2E86C1')  \n",
    "\n",
    "# Labels and ticks\n",
    "\n",
    "ax.set_xticks(x)\n",
    "ax.set_xticklabels(group_counts.index)\n",
    "ax.set_xlabel('Group')\n",
    "ax.set_ylabel('Number of users')\n",
    "ax.set_title('Total users vs. converted users by group')\n",
    "ax.legend()\n",
    "\n",
    "plt.show()"
   ]
  },
  {
   "cell_type": "code",
   "execution_count": null,
   "id": "27c5638b-e082-4ef9-aac3-2209020379be",
   "metadata": {},
   "outputs": [],
   "source": []
  }
 ],
 "metadata": {
  "kernelspec": {
   "display_name": "Python [conda env:base] *",
   "language": "python",
   "name": "conda-base-py"
  },
  "language_info": {
   "codemirror_mode": {
    "name": "ipython",
    "version": 3
   },
   "file_extension": ".py",
   "mimetype": "text/x-python",
   "name": "python",
   "nbconvert_exporter": "python",
   "pygments_lexer": "ipython3",
   "version": "3.12.7"
  }
 },
 "nbformat": 4,
 "nbformat_minor": 5
}
